{
 "cells": [
  {
   "cell_type": "code",
   "execution_count": 1,
   "metadata": {},
   "outputs": [
    {
     "name": "stdout",
     "output_type": "stream",
     "text": [
      "Note: you may need to restart the kernel to use updated packages.\n"
     ]
    }
   ],
   "source": [
    "%pip install -q ipywidgets seaborn"
   ]
  },
  {
   "cell_type": "code",
   "execution_count": 2,
   "metadata": {},
   "outputs": [],
   "source": [
    "import numpy as np\n",
    "import matplotlib.pyplot as plt\n",
    "import seaborn as sns\n",
    "from scipy.stats import norm, binom\n",
    "from ipywidgets import interact, FloatSlider, IntSlider\n",
    "\n",
    "# Set the Seaborn style\n",
    "sns.set(style=\"dark\")"
   ]
  },
  {
   "cell_type": "code",
   "execution_count": 5,
   "metadata": {},
   "outputs": [
    {
     "data": {
      "application/vnd.jupyter.widget-view+json": {
       "model_id": "cc10d7d2319e45e8aed070ebe2b0590f",
       "version_major": 2,
       "version_minor": 0
      },
      "text/plain": [
       "interactive(children=(FloatSlider(value=0.0, description='Mean:', max=10.0, min=-10.0), FloatSlider(value=1.0,…"
      ]
     },
     "metadata": {},
     "output_type": "display_data"
    }
   ],
   "source": [
    "def plot_normal_distribution(mean, variance):\n",
    "    # x = np.linspace(mean - 4 * np.sqrt(variance), mean + 4 * np.sqrt(variance), 1000)\n",
    "    x = norm.rvs(loc=mean, scale=variance, size=1000, random_state=None)\n",
    "    y = norm.pdf(x, mean, np.sqrt(variance))\n",
    "    \n",
    "    plt.figure(figsize=(10, 5))\n",
    "    sns.lineplot(x=x, y=y)\n",
    "    plt.title(\"Normal Distribution\")\n",
    "    plt.xlabel(\"X\")\n",
    "    plt.ylabel(\"Probability Density\")\n",
    "    plt.grid()\n",
    "\n",
    "    # Set the x-axis range\n",
    "    plt.xlim(-8, 8)\n",
    "\n",
    "    plt.show()\n",
    "\n",
    "mean_slider = FloatSlider(min=-10, max=10, step=0.1, value=0, description='Mean:')\n",
    "variance_slider = FloatSlider(min=0.1, max=10, step=0.1, value=1, description='Variance:')\n",
    "\n",
    "interact(plot_normal_distribution, mean=mean_slider, variance=variance_slider);"
   ]
  },
  {
   "cell_type": "code",
   "execution_count": 21,
   "metadata": {
    "tags": []
   },
   "outputs": [
    {
     "data": {
      "application/vnd.jupyter.widget-view+json": {
       "model_id": "594f4a956989485b82af6ffcf800e710",
       "version_major": 2,
       "version_minor": 0
      },
      "text/plain": [
       "interactive(children=(IntSlider(value=500, description='Sample Size:', max=10000, min=10, step=10), FloatSlide…"
      ]
     },
     "metadata": {},
     "output_type": "display_data"
    }
   ],
   "source": [
    "def plot_binom_distribution(sample_size, success_rate):\n",
    "    # x = np.linspace(mean - 4 * np.sqrt(variance), mean + 4 * np.sqrt(variance), 1000)\n",
    "    x = binom.rvs(n=sample_size, p=success_rate, size=1000)\n",
    "    # print(np.around(x / sample_size, decimals=2))\n",
    "    x_proportion = np.around(x / sample_size, decimals=3)\n",
    "    print(x_proportion)\n",
    "    # k = np.arange(sample_size + 1)\n",
    "    # p = binom.pmf(k, sample_size, success_rate)\n",
    "    # print(len(p))\n",
    "        \n",
    "    plt.figure(figsize=(10, 5))\n",
    "    sns.histplot(x_proportion)\n",
    "    # plt.plot(x, y)\n",
    "    plt.title(\"Binomial Distribution\")\n",
    "    plt.xlabel(\"Number of Successes\")\n",
    "    plt.ylabel(\"Probability\")\n",
    "\n",
    "    # Set the x-axis range\n",
    "    plt.xlim(0, 1)\n",
    "\n",
    "    plt.show()\n",
    "\n",
    "\n",
    "sample_size_slider = IntSlider(min=10, max=10000, step=10, value=500, description='Sample Size:')\n",
    "success_rate_slider = FloatSlider(min=0.01, max=0.99, step=0.01, value=0.5, description='Success Rate:')\n",
    "\n",
    "interact(plot_binom_distribution, sample_size=sample_size_slider, success_rate=success_rate_slider);"
   ]
  },
  {
   "cell_type": "code",
   "execution_count": null,
   "metadata": {},
   "outputs": [],
   "source": []
  }
 ],
 "metadata": {
  "kernelspec": {
   "display_name": "Python 3 (ipykernel)",
   "language": "python",
   "name": "python3"
  },
  "language_info": {
   "codemirror_mode": {
    "name": "ipython",
    "version": 3
   },
   "file_extension": ".py",
   "mimetype": "text/x-python",
   "name": "python",
   "nbconvert_exporter": "python",
   "pygments_lexer": "ipython3",
   "version": "3.11.2"
  }
 },
 "nbformat": 4,
 "nbformat_minor": 4
}
