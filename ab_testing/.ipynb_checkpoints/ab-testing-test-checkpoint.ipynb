{
 "cells": [
  {
   "cell_type": "code",
   "execution_count": 1,
   "metadata": {},
   "outputs": [],
   "source": [
    "%matplotlib inline\n",
    "import numpy as np\n",
    "import matplotlib.pyplot as plt\n",
    "import seaborn as sns\n",
    "from scipy.stats import binom\n",
    "import ipywidgets as widgets\n",
    "from ipywidgets import interact, interactive\n"
   ]
  },
  {
   "cell_type": "code",
   "execution_count": 16,
   "metadata": {},
   "outputs": [],
   "source": [
    "def plot_binomial_distribution(n=10, p=0.5):\n",
    "    x = np.arange(0, n+1)\n",
    "    proportions = x / n\n",
    "    binom_dist = binom.pmf(x, n, p)\n",
    "    # x_proportion = np.around(x / n, decimals=3)\n",
    "\n",
    "    plt.figure(figsize=(10, 5))\n",
    "    sns.barplot(x=proportions, y=binom_dist, color='blue', alpha=0.5)\n",
    "    plt.title(f'Binomial Distribution (n={n}, p={p})')\n",
    "    plt.xlabel('Number of Successes')\n",
    "    plt.ylabel('Probability')\n",
    "\n",
    "    plt.show()\n"
   ]
  },
  {
   "cell_type": "code",
   "execution_count": 17,
   "metadata": {},
   "outputs": [
    {
     "data": {
      "application/vnd.jupyter.widget-view+json": {
       "model_id": "c3f009f8964a43a59f750332e7128138",
       "version_major": 2,
       "version_minor": 0
      },
      "text/plain": [
       "interactive(children=(IntSlider(value=10, description='Sample Size:', min=1), FloatSlider(value=0.5, descripti…"
      ]
     },
     "metadata": {},
     "output_type": "display_data"
    }
   ],
   "source": [
    "n_widget = widgets.IntSlider(min=1, max=100, step=1, value=10, description='Sample Size:')\n",
    "p_widget = widgets.FloatSlider(min=0, max=1, step=0.01, value=0.5, description='Success Rate:')\n",
    "interact(plot_binomial_distribution, n=n_widget, p=p_widget);\n"
   ]
  }
 ],
 "metadata": {
  "kernelspec": {
   "display_name": ".venv",
   "language": "python",
   "name": "python3"
  },
  "language_info": {
   "codemirror_mode": {
    "name": "ipython",
    "version": 3
   },
   "file_extension": ".py",
   "mimetype": "text/x-python",
   "name": "python",
   "nbconvert_exporter": "python",
   "pygments_lexer": "ipython3",
   "version": "3.11.2"
  },
  "orig_nbformat": 4
 },
 "nbformat": 4,
 "nbformat_minor": 2
}
