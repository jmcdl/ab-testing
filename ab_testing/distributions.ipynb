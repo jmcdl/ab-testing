{
 "cells": [
  {
   "attachments": {},
   "cell_type": "markdown",
   "metadata": {},
   "source": [
    "# Simulating Online Experiments\n",
    "\n",
    "## Things I'll Show\n",
    "\n",
    "- The difference between the normal and binomial distributions\n",
    "- How the binmomial distirbution changes according to the population proportion and sample size\n",
    "- The visual representation of significance level and it's meaning\n",
    "- Difference between a one and two-sided hypothesis test\n",
    "- Simulated experiment where there is no difference between the control and exposed population conversion rates\n",
    "  - results depend on sample size (power)\n",
    "\n",
    "## Plan\n",
    "\n",
    "My objective is to show why it's bad science to calculate a p-value for an experiment multiple times. To do that I'm going to try to explain each of the components of the calculation, from the beginning.\n",
    "\n",
    "### The statistics \n",
    "\n"
   ]
  },
  {
   "cell_type": "code",
   "execution_count": 1,
   "metadata": {},
   "outputs": [],
   "source": [
    "import math\n",
    "import numpy as np\n",
    "import pandas as pd\n",
    "import matplotlib.pyplot as plt\n",
    "import seaborn as sns\n",
    "from scipy.stats import norm, binom\n",
    "from ipywidgets import interact, FloatSlider, IntSlider, fixed, RadioButtons\n",
    "\n",
    "# Set the Seaborn style\n",
    "sns.set(style=\"dark\")"
   ]
  },
  {
   "attachments": {},
   "cell_type": "markdown",
   "metadata": {},
   "source": [
    "## Normal Distribution"
   ]
  },
  {
   "cell_type": "code",
   "execution_count": 2,
   "metadata": {},
   "outputs": [
    {
     "data": {
      "application/vnd.jupyter.widget-view+json": {
       "model_id": "f55009e15bbe4d7c96db741f60cf26ce",
       "version_major": 2,
       "version_minor": 0
      },
      "text/plain": [
       "interactive(children=(FloatSlider(value=0.0, description='Mean:', max=10.0, min=-10.0), FloatSlider(value=1.0,…"
      ]
     },
     "metadata": {},
     "output_type": "display_data"
    },
    {
     "data": {
      "text/plain": [
       "<function __main__.plot_normal_distribution(mean, variance)>"
      ]
     },
     "execution_count": 2,
     "metadata": {},
     "output_type": "execute_result"
    }
   ],
   "source": [
    "def plot_normal_distribution(mean, variance):\n",
    "    x = norm.rvs(loc=mean, scale=variance, size=1000, random_state=None)\n",
    "    y = norm.pdf(x, mean, np.sqrt(variance))\n",
    "\n",
    "    sns.lineplot(x=x, y=y)\n",
    "    plt.title(\"Normal Distribution\")\n",
    "    plt.xlabel(\"X\")\n",
    "    plt.ylabel(\"Probability Density\")\n",
    "    plt.xlim([-6, 6])\n",
    "    plt.show()\n",
    "\n",
    "\n",
    "mean_slider = FloatSlider(min=-10, max=10, step=0.1, value=0, description=\"Mean:\")\n",
    "variance_slider = FloatSlider(\n",
    "    min=0.1, max=10, step=0.1, value=1, description=\"Variance:\"\n",
    ")\n",
    "\n",
    "interact(plot_normal_distribution, mean=mean_slider, variance=variance_slider)"
   ]
  },
  {
   "attachments": {},
   "cell_type": "markdown",
   "metadata": {},
   "source": [
    "## Central Limit Theorem\n"
   ]
  },
  {
   "cell_type": "code",
   "execution_count": 3,
   "metadata": {},
   "outputs": [
    {
     "data": {
      "application/vnd.jupyter.widget-view+json": {
       "model_id": "8379848110fa4c78a5fa32f1e4481e5e",
       "version_major": 2,
       "version_minor": 0
      },
      "text/plain": [
       "interactive(children=(IntSlider(value=5, description='Beta:', max=10, min=1), Output()), _dom_classes=('widget…"
      ]
     },
     "metadata": {},
     "output_type": "display_data"
    },
    {
     "data": {
      "text/plain": [
       "<function __main__.draw_sample_means_exp_distribution(beta)>"
      ]
     },
     "execution_count": 3,
     "metadata": {},
     "output_type": "execute_result"
    }
   ],
   "source": [
    "def draw_sample_means_exp_distribution(beta):\n",
    "    \"\"\" \n",
    "    This code generates an exponential distribution with a lambda parameter \n",
    "    of 2 and a size of 100,000. Then, it takes 1,000 samples of size 50 from \n",
    "    this distribution, calculates their means, and stores them in a list. \n",
    "    Finally, it plots both the original exponential distribution and the \n",
    "    distribution of sample means using seaborn's histplot function. The resulting \n",
    "    plot of the sample means should resemble a normal distribution, demonstrating \n",
    "    the Central Limit Theorem in action.\n",
    "    \"\"\"\n",
    "\n",
    "    # Set seed for reproducibility\n",
    "    # np.random.seed(42)\n",
    "\n",
    "    # Define the parameters for the exponential distribution\n",
    "    lam = 1\n",
    "    size = 100000\n",
    "\n",
    "    # Generate the exponential distribution\n",
    "    data = np.random.exponential(scale=beta, size=size)\n",
    "\n",
    "    # Draw samples and compute sample means\n",
    "    sample_size = 50\n",
    "    num_samples = 1000\n",
    "    sample_means = []\n",
    "\n",
    "    for _ in range(num_samples):\n",
    "        sample = np.random.choice(data, size=sample_size)\n",
    "        sample_mean = np.mean(sample)\n",
    "        sample_means.append(sample_mean)\n",
    "\n",
    "\n",
    "    fig, (ax1, ax2) = plt.subplots(1, 2, figsize=(20, 6))\n",
    "\n",
    "    # Plot the original exponential distribution\n",
    "    sns.histplot(data, kde=True, color=\"blue\", ax=ax1)\n",
    "    ax1.set_title(\"Exponential Distribution\")\n",
    "    ax1.set_xlabel(\"Values\")\n",
    "    ax1.set_ylabel(\"Frequency\")\n",
    "\n",
    "    # Plot the distribution of sample means\n",
    "    sns.histplot(sample_means, kde=True, color=\"red\", ax=ax2)\n",
    "    ax2.set_title(\"Distribution of Sample Means\")\n",
    "    ax2.set_xlabel(\"Sample Means\")\n",
    "    ax2.set_ylabel(\"Frequency\")\n",
    "\n",
    "    plt.show()\n",
    "\n",
    "    # Calculate the population variance (if known)\n",
    "    population_variance = np.var(data, ddof=0)\n",
    "\n",
    "    # Calculate the sample variance (if population variance is unknown)\n",
    "    sample_variance = np.var(data, ddof=1)\n",
    "\n",
    "    # Calculate the variance of the distribution of sample means\n",
    "    variance_sample_means_pop = population_variance / sample_size\n",
    "    variance_sample_means_sample = sample_variance / sample_size\n",
    "    standard_deviation_sample_means_pop = math.sqrt(variance_sample_means_pop)\n",
    "    standard_deviaation_sample_means_sample = math.sqrt(variance_sample_means_sample)\n",
    "\n",
    "    print(\"Variance of sample means (using population variance):\", variance_sample_means_pop)\n",
    "    print(\"Standard deviation of sample means (using population variance):\", standard_deviation_sample_means_pop)\n",
    "\n",
    "    print(\"Variance of sample means (using sample variance):\", variance_sample_means_sample)\n",
    "    print(\"Standard deviation of sample means (using sample variance):\", standard_deviaation_sample_means_sample)\n",
    "\n",
    "beta_slider = IntSlider(\n",
    "    min=1, max=10, step=1, value=5, description=\"Beta:\"\n",
    ")\n",
    "\n",
    "interact(draw_sample_means_exp_distribution, beta=beta_slider)"
   ]
  },
  {
   "attachments": {},
   "cell_type": "markdown",
   "metadata": {},
   "source": [
    "## Binomial distribution - PMF and CDF\n"
   ]
  },
  {
   "cell_type": "code",
   "execution_count": 4,
   "metadata": {},
   "outputs": [
    {
     "data": {
      "application/vnd.jupyter.widget-view+json": {
       "model_id": "ae756db81bde44a79a577d49a781d44a",
       "version_major": 2,
       "version_minor": 0
      },
      "text/plain": [
       "interactive(children=(IntSlider(value=1000, description='Sample Size:', max=2000, min=200, step=100), FloatSli…"
      ]
     },
     "metadata": {},
     "output_type": "display_data"
    },
    {
     "data": {
      "text/plain": [
       "<function __main__.plot_binomial_pmf_cdf(n, p)>"
      ]
     },
     "execution_count": 4,
     "metadata": {},
     "output_type": "execute_result"
    }
   ],
   "source": [
    "def plot_binomial_pmf_cdf(n, p):\n",
    "    # array of values from 0 to n + 1 that we will use to plot the probability mass function\n",
    "    x = np.arange(0, n + 1)\n",
    "    variance = n * p * (1 - p)\n",
    "\n",
    "    # the probability mass function shows the probability of successes for each value of the x array\n",
    "    pmf = binom.pmf(x, n, p)\n",
    "\n",
    "    # the cumulative distribution function shows the probability of getting a number of successes up to a certain value\n",
    "    cdf = binom.cdf(x, n, p)\n",
    "\n",
    "    x_axis_min = n / 2 - 100\n",
    "    x_axis_max = n / 2 + 100\n",
    "    fig, (ax1, ax2) = plt.subplots(1, 2, figsize=(20, 6))\n",
    "\n",
    "    # seaborn plot of the probability mass function with a smoothed curve\n",
    "    sns.lineplot(x=x, y=pmf, ax=ax1)\n",
    "    ax1.set_title(\n",
    "        f\"Probability Mass Function for Binomial Distribution (n={n}, p={p}), variance={variance:.0f}\"\n",
    "    )\n",
    "    ax1.set_xlabel(\"Number of successes\")\n",
    "    ax1.set_ylabel(\"Probability of seeing exactly this number of successes\")\n",
    "    ax1.set_xlim([x_axis_min, x_axis_max])\n",
    "    # ax1.plot(x, pmf, 'bo', ms=8, label='binom pmf')\n",
    "    ax1.vlines(x, 0, pmf, colors=\"b\", lw=1, alpha=0.5)\n",
    "\n",
    "    # seaborn plot of the cumulative distribution function\n",
    "    sns.lineplot(x=x, y=cdf, ax=ax2)\n",
    "    ax2.set_title(\n",
    "        f\"Cumulative Distribution Function for Binomial Distribution (n={n}, p={p})\"\n",
    "    )\n",
    "    ax2.set_xlim([x_axis_min, x_axis_max])\n",
    "    ax2.set_xlabel(\"Number of successes\")\n",
    "    ax2.set_ylabel(\"Probability of seeing this number of successes or less\")\n",
    "    # ax2.plot(x, cdf, 'bo', ms=8, label='binom cdf')\n",
    "    ax2.vlines(x, 0, cdf, colors=\"b\", lw=1, alpha=0.5)\n",
    "\n",
    "    plt.show()\n",
    "\n",
    "\n",
    "# plot_binomial_pmf_cdf(1000, 0.5)\n",
    "\n",
    "sample_size_slider = IntSlider(\n",
    "    min=200, max=2000, step=100, value=1000, description=\"Sample Size:\"\n",
    ")\n",
    "success_rate_slider = FloatSlider(\n",
    "    min=0.01, max=0.99, step=0.01, value=0.5, description=\"Success Rate:\"\n",
    ")\n",
    "\n",
    "interact(plot_binomial_pmf_cdf, n=sample_size_slider, p=success_rate_slider)"
   ]
  },
  {
   "attachments": {},
   "cell_type": "markdown",
   "metadata": {},
   "source": [
    "## Binomial Distribution - Variance\n",
    "\n",
    "- As sample size increases variance of 'no. of successes' increases\n",
    "- But variance of the proportion of successes decreases"
   ]
  },
  {
   "cell_type": "code",
   "execution_count": null,
   "metadata": {},
   "outputs": [],
   "source": [
    "def plot_binomial_pmf_cdf_proportion(n, p):\n",
    "    # create an array of calues from 0 to n + 1\n",
    "    x = np.arange(0, n + 1)\n",
    "    x_proportion = x / n\n",
    "\n",
    "    variance = n * p * (1 - p)\n",
    "    proportion_variance = p * (1 - p) / n\n",
    "\n",
    "    # the probability mass function shows the probability of getting a certain number of successes\n",
    "    pmf = binom.pmf(x, n, p)\n",
    "    pmf_proportion = pmf / n\n",
    "\n",
    "    fig, (ax1, ax2) = plt.subplots(1, 2, figsize=(20, 6))\n",
    "\n",
    "    sns.lineplot(x=x, y=pmf, ax=ax1)\n",
    "    ax1.set_title(f\"Binomial Distribution (n={n}, p={p}), variance={variance:.0f}\")\n",
    "    ax1.set_xlabel(\"Number of successes\")\n",
    "    ax1.set_ylabel(\"Probability of seeing exactly this number of successes\")\n",
    "    ax1.set_xlim([n / 2 - 100, n / 2 + 100])\n",
    "    ax1.vlines(x, 0, pmf, colors=\"b\", lw=1, alpha=0.5)\n",
    "\n",
    "    sns.lineplot(x=x_proportion, y=pmf_proportion, ax=ax2)\n",
    "    plt.title(\n",
    "        f\"Binomial Distribution (n={n}, p={p}), variance={proportion_variance:.5f}\"\n",
    "    )\n",
    "    plt.xlabel(\"Proportion of successes\")\n",
    "    ax2.set_ylabel(\"Probability of seeing exactly this proportion of successes\")\n",
    "    ax2.set_xlim([p - 0.1, p + 0.1])\n",
    "    ax2.vlines(x_proportion, 0, pmf_proportion, colors=\"b\", lw=1, alpha=0.5)\n",
    "\n",
    "    plt.show()\n",
    "\n",
    "\n",
    "sample_size_slider = IntSlider(\n",
    "    min=200, max=2000, step=100, value=1000, description=\"Sample Size:\"\n",
    ")\n",
    "success_rate_slider = FloatSlider(\n",
    "    min=0.01, max=0.99, step=0.01, value=0.5, description=\"Success Rate:\"\n",
    ")\n",
    "\n",
    "interact(plot_binomial_pmf_cdf_proportion, n=sample_size_slider, p=success_rate_slider)"
   ]
  },
  {
   "attachments": {},
   "cell_type": "markdown",
   "metadata": {},
   "source": [
    "## Significance Level\n"
   ]
  },
  {
   "cell_type": "code",
   "execution_count": 5,
   "metadata": {},
   "outputs": [
    {
     "data": {
      "application/vnd.jupyter.widget-view+json": {
       "model_id": "5ed31a24c17547ad9e7e8f81a3c20d50",
       "version_major": 2,
       "version_minor": 0
      },
      "text/plain": [
       "interactive(children=(FloatSlider(value=0.05, description='Significance Level:', max=0.5, min=0.001, step=0.00…"
      ]
     },
     "metadata": {},
     "output_type": "display_data"
    },
    {
     "data": {
      "text/plain": [
       "<function __main__.plot_binomial_pmf(n, p, alpha, test_sides, x_axis)>"
      ]
     },
     "execution_count": 5,
     "metadata": {},
     "output_type": "execute_result"
    }
   ],
   "source": [
    "def plot_binomial_pmf(n, p, alpha, test_sides, x_axis):\n",
    "    # create an array of values from 0 to n + 1\n",
    "    x = np.arange(0, n + 1)\n",
    "    x_proportion = x / n\n",
    "    proportion_variance = p * (1 - p) / n\n",
    "    proportion_sd = math.sqrt(proportion_variance)\n",
    "    x_proportion_sd = (x_proportion - p) / proportion_sd\n",
    "    v_value = x_proportion if x_axis == \"Proportion\" else x_proportion_sd\n",
    "\n",
    "    # the probability mass function shows the probability of getting a certain number of successes\n",
    "    pmf = binom.pmf(x, n, p)\n",
    "    pmf_proportion = pmf / n\n",
    "\n",
    "    plt.figure(figsize=(20, 6))\n",
    "    ax = sns.lineplot(x=v_value, y=pmf_proportion)\n",
    "    plt.title(\n",
    "        f\"Binomial Distribution (n={n}, p={p}), variance={proportion_variance:.5f}\"\n",
    "    )\n",
    "    plt.xlabel(\"Proportion of successes\")\n",
    "    plt.ylabel(\"Probability of seeing exactly this proportion of successes\")\n",
    "\n",
    "    xlim_min = p - 4 * proportion_sd if x_axis == \"Proportion\" else -4\n",
    "    xlim_max = p + 4 * proportion_sd if x_axis == \"Proportion\" else 4\n",
    "    plt.xlim([xlim_min, xlim_max])\n",
    "    plt.vlines(v_value, 0, pmf_proportion, colors=\"b\", lw=1, alpha=0.5)\n",
    "\n",
    "    if test_sides == \"Two-sided\":\n",
    "        # Show the range of values for a 5% significance level for a two-sided test\n",
    "        z_score = norm.ppf(1 - alpha / 2)\n",
    "        lower_bound = (\n",
    "            p - z_score * np.sqrt(proportion_variance)\n",
    "            if x_axis == \"Proportion\"\n",
    "            else -z_score\n",
    "        )\n",
    "        upper_bound = (\n",
    "            p + z_score * np.sqrt(proportion_variance)\n",
    "            if x_axis == \"Proportion\"\n",
    "            else z_score\n",
    "        )\n",
    "        ax.fill_between(\n",
    "            v_value,\n",
    "            0,\n",
    "            pmf_proportion,\n",
    "            where=((v_value <= lower_bound) | (v_value >= upper_bound)),\n",
    "            color=\"r\",\n",
    "            alpha=0.3,\n",
    "        )\n",
    "        print(\"lower bound:\", round(lower_bound, 3))\n",
    "        print(\"upper bound:\", round(upper_bound, 3))\n",
    "\n",
    "    if test_sides == \"One-sided\":\n",
    "        # Show the 5% significance level\n",
    "        z_score = norm.ppf(1 - alpha)\n",
    "        upper_bound = (\n",
    "            p + z_score * np.sqrt(proportion_variance)\n",
    "            if x_axis == \"Proportion\"\n",
    "            else z_score\n",
    "        )\n",
    "        ax.fill_between(\n",
    "            v_value,\n",
    "            0,\n",
    "            pmf_proportion,\n",
    "            where=((v_value >= upper_bound)),\n",
    "            color=\"r\",\n",
    "            alpha=0.3,\n",
    "        )\n",
    "        print(\"upper bound:\", round(upper_bound, 3))\n",
    "\n",
    "    plt.show()\n",
    "\n",
    "\n",
    "alpha_slider = FloatSlider(\n",
    "    min=0.001, max=0.5, step=0.005, value=0.05, description=\"Significance Level:\"\n",
    ")\n",
    "test_sides_buttons = RadioButtons(\n",
    "    options=[\"One-sided\", \"Two-sided\"], description=\"Sides:\", value=\"Two-sided\"\n",
    ")\n",
    "x_axis_buttons = RadioButtons(\n",
    "    options=[\"Proportion\", \"Standard Deviations\"],\n",
    "    description=\"X-axis:\",\n",
    "    value=\"Proportion\",\n",
    ")\n",
    "\n",
    "interact(\n",
    "    plot_binomial_pmf,\n",
    "    n=fixed(1000),\n",
    "    p=fixed(0.5),\n",
    "    alpha=alpha_slider,\n",
    "    test_sides=test_sides_buttons,\n",
    "    x_axis=x_axis_buttons,\n",
    ")"
   ]
  }
 ],
 "metadata": {
  "kernelspec": {
   "display_name": "Python 3 (ipykernel)",
   "language": "python",
   "name": "python3"
  },
  "language_info": {
   "codemirror_mode": {
    "name": "ipython",
    "version": 3
   },
   "file_extension": ".py",
   "mimetype": "text/x-python",
   "name": "python",
   "nbconvert_exporter": "python",
   "pygments_lexer": "ipython3",
   "version": "3.11.2"
  }
 },
 "nbformat": 4,
 "nbformat_minor": 4
}
