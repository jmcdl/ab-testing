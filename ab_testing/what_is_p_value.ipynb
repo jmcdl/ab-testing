{
 "cells": [
  {
   "attachments": {},
   "cell_type": "markdown",
   "metadata": {},
   "source": [
    "# What is a P-Value?\n",
    "\n",
    "A p-value is a measure of the evidence against a null hypothesis. The p-value answers the question 'if the null hypothesis is true and we repeated many times, how often would see this value\". The p-value gives the probability of seeing the test value if the null hypothesis is true.\n",
    "\n",
    "\n",
    "## How is a p-value calculated:\n",
    "\n",
    "1. Calculate the conversion rates for the control and exposed groups (successes / total)\n",
    "2. Calculate the average conversion rate (pooled probability)\n",
    "    - The pooled proportion is used under the assumption that the null hypothesis is true, which means there is no significant difference between the two population proportions (p1 and p2). The purpose of pooling the proportions is to obtain a single, overall estimate of the true proportion based on the combined information from both samples.\n",
    "3. Use these values to calculate the z-score (difference in conversion rates between control and exposed groups in standard deviation units)\n",
    "4. Obtain the p-value (probability of seeing the test value or less) using the normal distribution's cumulative density function\n",
    "    - The reason we can use the cumulative density function (CDF) of the normal distribution to obtain the p-value for a test of binomial proportions is due to the Central Limit Theorem (CLT). The CLT states that the sum or average of a large number of independent and identically distributed random variables, each with finite mean and variance, will approach a normal distribution as the number of variables goes to infinity.\n",
    "    - For a two-tailed test, the p-value is given by:\n",
    "        - p-value = 2 * (1 - CDF(Z)) where Z is the calculated Z-score and CDF(Z) is the cumulative probability of the standard normal distribution up to Z.\n",
    "    - For a one-tailed test, the p-value is given by:\n",
    "        - p-value = 1 - CDF(Z) (for an upper-tailed test) or p-value = CDF(Z) (for a lower-tailed test)\n",
    "\n",
    "## How can we know that the p-value we're calculating is correct?\n",
    "\n",
    "To verify that the calculations are correct we should be able to show that when the null hypothesis is true (conversion rates are the same for both groups), 5% of p-values are less than 0.05. \n",
    "\n",
    "## Show how \"peeking\" (also known as multiple testing) breaks this assumption\n",
    "\n",
    "## Show how the sample size affects statistical power\n"
   ]
  },
  {
   "cell_type": "code",
   "execution_count": 64,
   "metadata": {},
   "outputs": [],
   "source": [
    "import math\n",
    "import numpy as np\n",
    "import pandas as pd\n",
    "import seaborn as sns\n",
    "import matplotlib.pyplot as plt\n",
    "from scipy.stats import binom, binomtest, norm\n",
    "\n",
    "# Set the Seaborn style\n",
    "sns.set(style=\"dark\")\n",
    "pd.set_option(\"display.float_format\", lambda x: \"%.5f\" % x)"
   ]
  },
  {
   "attachments": {},
   "cell_type": "markdown",
   "metadata": {},
   "source": [
    "## Set up some shared functions"
   ]
  },
  {
   "cell_type": "code",
   "execution_count": 65,
   "metadata": {},
   "outputs": [],
   "source": [
    "def run_experiment(p1, p2, n1, n2):\n",
    "    control_conversions = binom.rvs(n1, p1)\n",
    "    exposed_conversions = binom.rvs(n2, p2,)\n",
    "    control_conversion_rate = control_conversions / n1\n",
    "    exposed_conversion_rate = exposed_conversions / n2\n",
    "    return control_conversion_rate, exposed_conversion_rate\n",
    "\n",
    "\n",
    "def get_z_score(\n",
    "    control_conversion_rate, exposed_conversion_rate, control_sample, exposed_sample\n",
    "):\n",
    "    p1 = control_conversion_rate\n",
    "    p2 = exposed_conversion_rate\n",
    "    n1 = control_sample\n",
    "    n2 = exposed_sample\n",
    "\n",
    "    pooled_prop = (p1 * n1 + p2 * n2) / (n1 + n2)\n",
    "    z = (p2 - p1) / math.sqrt(pooled_prop * (1 - pooled_prop) * (1 / n1 + 1 / n2))\n",
    "\n",
    "    return z\n",
    "\n",
    "def get_p_value(z_score, test_sides):\n",
    "    if test_sides == 1:\n",
    "        # for an upper tailed test the sign of the z-score matters since only positive values will allows us to reject the null hypothesis\n",
    "        return 1 - norm.cdf(z_score)\n",
    "    else:\n",
    "        # for a two tailed test we need to take the absolute value of the z-score since we are interested in the magnitude of the z-score, not the direction\n",
    "        return 2 * (1 - norm.cdf(abs(z_score)))\n",
    "    "
   ]
  },
  {
   "attachments": {},
   "cell_type": "markdown",
   "metadata": {},
   "source": [
    "## Run a single experiment"
   ]
  },
  {
   "cell_type": "code",
   "execution_count": 77,
   "metadata": {},
   "outputs": [
    {
     "name": "stdout",
     "output_type": "stream",
     "text": [
      "control conversion rate:  0.099\n",
      "exposed conversion rate:  0.11\n",
      "z-score:  0.8040568330379041\n"
     ]
    }
   ],
   "source": [
    "p1 = 0.1\n",
    "p2 = 0.12\n",
    "n1 = 1000\n",
    "n2 = 1000\n",
    "(control_conversion_rate, exposed_conversion_rate) = run_experiment(p1, p2, n1, n2)\n",
    "print('control conversion rate: ', control_conversion_rate)\n",
    "print('exposed conversion rate: ', exposed_conversion_rate)\n",
    "\n",
    "z_score = get_z_score(control_conversion_rate, exposed_conversion_rate, n1, n2)\n",
    "print('z-score: ', z_score)"
   ]
  },
  {
   "attachments": {},
   "cell_type": "markdown",
   "metadata": {},
   "source": [
    "## Calculate p-value for a one or two-tailed test"
   ]
  },
  {
   "cell_type": "code",
   "execution_count": 78,
   "metadata": {},
   "outputs": [
    {
     "name": "stdout",
     "output_type": "stream",
     "text": [
      "p-value:  0.21068207656087123\n"
     ]
    }
   ],
   "source": [
    "# When running a two-tailed test, the p-value is multiplied by 2 to account for \n",
    "# the fact that there are two areas (or tails) of the distribution where the effect\n",
    "#  of interest could occur. This is done to maintain the correct Type I error rate (alpha level) for the test\n",
    "p_value = get_p_value(z_score, 1)\n",
    "print('p-value: ', p_value)"
   ]
  },
  {
   "attachments": {},
   "cell_type": "markdown",
   "metadata": {},
   "source": [
    "## Simulated experiments where the null hypothesis is true"
   ]
  },
  {
   "cell_type": "code",
   "execution_count": 46,
   "metadata": {},
   "outputs": [
    {
     "name": "stdout",
     "output_type": "stream",
     "text": [
      "Proportion of p-values less than 0.05: 0.0461\n"
     ]
    }
   ],
   "source": [
    "# Simulate running 10,000 experiments where the null hypothesis is true, i.e.\n",
    "# the conversion rate is the same for both the control and exposed groups.\n",
    "# We expect the p-value to be less than 0.05 in 5% of the experiments.\n",
    "\n",
    "def get_simulated_p_values(p1, p2, n1, n2, num_experiments):\n",
    "    p_values = []\n",
    "    for _ in range(num_experiments):\n",
    "        control_conversions = binom.rvs(n1, p1)\n",
    "        exposed_conversions = binom.rvs(n2, p2,)\n",
    "        control_conversion_rate = control_conversions / n1\n",
    "        exposed_conversion_rate = exposed_conversions / n2\n",
    "        \n",
    "        z_score = get_z_score(control_conversion_rate, exposed_conversion_rate, n1, n2)\n",
    "        p_value = get_p_value(z_score, test_sides=2)\n",
    "        p_values.append(p_value)\n",
    "\n",
    "    return p_values\n",
    "\n",
    "# Set parameters\n",
    "n1 = 10000\n",
    "n2 = 10000\n",
    "p = 0.5\n",
    "num_experiments = 10000\n",
    "\n",
    "# Run multiple experiments\n",
    "p_values = get_simulated_p_values(p, p, n1, n2, num_experiments)\n",
    "\n",
    "# Calculate the proportion of p-values less than 0.05\n",
    "false_positive_rate = sum(pv < 0.05 for pv in p_values) / num_experiments\n",
    "\n",
    "print(\"Proportion of p-values less than 0.05:\", false_positive_rate)"
   ]
  },
  {
   "attachments": {},
   "cell_type": "markdown",
   "metadata": {},
   "source": [
    "## Show that the distribution of p-values is constant"
   ]
  },
  {
   "cell_type": "code",
   "execution_count": 47,
   "metadata": {},
   "outputs": [
    {
     "data": {
      "image/png": "[encoded data removed]",
      "text/plain": [
       "<Figure size 500x500 with 1 Axes>"
      ]
     },
     "metadata": {},
     "output_type": "display_data"
    }
   ],
   "source": [
    "\"\"\" \n",
    "The p-value is a measure of the probability of observing a test statistic as extreme or more extreme than the \n",
    "one calculated from the sample data, assuming the null hypothesis is true. When the null hypothesis is true, \n",
    "the p-values follow a uniform distribution between 0 and 1. This means that each p-value within this range \n",
    "has an equal probability of occurring.\n",
    "\n",
    "This uniform distribution of p-values occurs because the null hypothesis assumes there is no systematic \n",
    "difference between the groups. In this case, the test statistics are just as likely to be positive as they\n",
    "are to be negative, and they are just as likely to be small as they are to be large. As a result, the \n",
    "probability of observing a particular p-value is the same across the entire range of possible p-values, \n",
    "resulting in a uniform distribution.\n",
    " \"\"\"\n",
    "\n",
    "def plot_p_values(p_values):\n",
    "    sns.displot(p_values, kde=False, bins=10, stat=\"probability\")\n",
    "    plt.xlabel(\"p-value\")\n",
    "    plt.ylabel(\"proportion of experiments\")\n",
    "    plt.show()\n",
    "\n",
    "plot_p_values(p_values)\n"
   ]
  },
  {
   "attachments": {},
   "cell_type": "markdown",
   "metadata": {},
   "source": [
    "## The Problem with Peeking"
   ]
  },
  {
   "cell_type": "code",
   "execution_count": 80,
   "metadata": {},
   "outputs": [],
   "source": [
    "\n",
    "def demonstrate_peeking_problem(\n",
    "    p1,\n",
    "    p2,\n",
    "    num_experiments,\n",
    "    total_sample,\n",
    "    peeks_count,\n",
    "):\n",
    "    '''\n",
    "     Simulates runnning the same experiment many times and peeking at the results to obtain a p-value at various stages \n",
    "     of each experiment. The function aims to demonstrate how the proability of obtaining a false positive result increases\n",
    "    when the p-value is calculated multiple times during an experiment. \n",
    "    '''\n",
    "\n",
    "    #  array holding a row for each experiment where the columns represent the p-values calculated at each peek\n",
    "    p_values = np.empty(peeks_count).reshape(1, peeks_count)\n",
    "    for _ in range(num_experiments):\n",
    "        # array holding the accumulated sample data obtained for the control group\n",
    "        control_conversions = np.empty(0)\n",
    "        # array holding the accumulated sample data obtained for the exposed group\n",
    "        exposed_conversions = np.empty(0)\n",
    "        # array holding the p-values calculated at each peek\n",
    "        daily_p_values = np.empty(0)\n",
    "\n",
    "        for _ in range(peeks_count):\n",
    "            control_daily_conversions = binom.rvs(\n",
    "                n=1, p=p1, size=total_sample // peeks_count\n",
    "            )\n",
    "            exposed_daily_conversions = binom.rvs(\n",
    "                n=1, p=p2, size=total_sample // peeks_count\n",
    "            )\n",
    "            control_conversions = np.append(\n",
    "                control_conversions, control_daily_conversions\n",
    "            )\n",
    "            exposed_conversions = np.append(\n",
    "                exposed_conversions, exposed_daily_conversions\n",
    "            )\n",
    "            control_conversion_rate = control_conversions.mean()\n",
    "            exposed_conversion_rate = exposed_conversions.mean()\n",
    "\n",
    "            z = get_z_score(\n",
    "                control_conversion_rate,\n",
    "                exposed_conversion_rate,\n",
    "                len(control_conversions),\n",
    "                len(exposed_conversions),\n",
    "            )\n",
    "\n",
    "            pv = get_p_value(z, 2)\n",
    "            daily_p_values = np.append(daily_p_values, pv)\n",
    "\n",
    "        p_values = np.vstack((p_values, daily_p_values))\n",
    "\n",
    "    p_values_frame = pd.DataFrame(p_values)\n",
    "\n",
    "    return p_values_frame\n",
    "\n",
    "\n",
    "total_sample = 1000\n",
    "peeks_count = 20\n",
    "conversion_rate_a = 0.5\n",
    "conversion_rate_b = 0.5\n",
    "alpha = 0.05\n",
    "num_experiments = 1000\n",
    "\n",
    "p_values_frame = demonstrate_peeking_problem(\n",
    "    conversion_rate_a,\n",
    "    conversion_rate_b,\n",
    "    num_experiments,\n",
    "    total_sample,\n",
    "    peeks_count,\n",
    ")\n",
    "\n",
    "# convert the p-values to booleans where True indicates a significant result according to the alpha value\n",
    "significant_frame = p_values_frame.applymap(lambda x: x < alpha)\n",
    "\n",
    "daily_frame= significant_frame.copy()\n",
    "# add a row to the dataframe that contains the proportion of false positive results for each peek across all experiments\n",
    "daily_frame.loc[\"percent_false_positive\"] = daily_frame.mean(axis=0)\n",
    "\n",
    "cumulative_frame = significant_frame.copy()\n",
    "cumulative_sum = cumulative_frame.cumsum(axis=1)\n",
    "# replace any values greater than 1 with 1\n",
    "cumulative_sum = cumulative_sum.clip(\n",
    "    0, 1\n",
    ")  \n",
    "# update the dataframe with the updated values\n",
    "cumulative_frame[cumulative_sum == 1] = True\n",
    "# add a row to the dataframe that contains the cumulative proportion of false positive results for each peek across all experiments\n",
    "cumulative_frame.loc[\"percent_false_positive\"] = cumulative_frame.mean(axis=0)\n"
   ]
  },
  {
   "attachments": {},
   "cell_type": "markdown",
   "metadata": {},
   "source": [
    "## Draw the simulation results"
   ]
  },
  {
   "cell_type": "code",
   "execution_count": 81,
   "metadata": {},
   "outputs": [
    {
     "data": {
      "image/png": "[encoded data removed]",
      "text/plain": [
       "<Figure size 640x480 with 1 Axes>"
      ]
     },
     "metadata": {},
     "output_type": "display_data"
    }
   ],
   "source": [
    "# Assuming you have two dataframes named total_frame and daily_frame\n",
    "cumulative_row = cumulative_frame.loc[[\"percent_false_positive\"]]\n",
    "cumulative_row[\"type\"] = \"Cumulative\"\n",
    "\n",
    "daily_row = daily_frame.loc[[\"percent_false_positive\"]]\n",
    "daily_row[\"type\"] = \"Daily\"\n",
    "\n",
    "# Concatenate the two rows into a single dataframe\n",
    "combined_rows = pd.concat([cumulative_row, daily_row])\n",
    "# print(\"1\", combined_rows)\n",
    "\n",
    "# Reset the index to create a column from the current index\n",
    "combined_rows.reset_index(inplace=True)\n",
    "# print(\"2\", combined_rows)\n",
    "\n",
    "# Rename the columns to make them more descriptive\n",
    "combined_rows.rename(columns={\"index\": \"Peek #\", \"percent_false_positive\": \"False Positive %\"}, inplace=True)\n",
    "# print(\"3\", combined_rows)\n",
    "\n",
    "# Melt the dataframe to get it in the right format for seaborn\n",
    "melted_rows = combined_rows.melt(id_vars=[\"Peek #\", \"type\"], var_name=\"Category\", value_name=\"False Positive %\")\n",
    "# print(\"4\", melted_rows)\n",
    "\n",
    "# Plot the data using seaborn's lineplot\n",
    "sns.lineplot(data=melted_rows, x=\"Category\", y=\"False Positive %\", hue=\"type\")\n",
    "plt.show()"
   ]
  },
  {
   "attachments": {},
   "cell_type": "markdown",
   "metadata": {},
   "source": [
    "## Statistical Power\n",
    "\n",
    "### Or\n",
    "![Ioannidis](img/ioannidis.png)\n",
    "\n",
    "### Underpowered experiments are bad\n",
    "![Type S Error](img/type-s-error.png)"
   ]
  },
  {
   "cell_type": "code",
   "execution_count": 54,
   "metadata": {},
   "outputs": [
    {
     "name": "stdout",
     "output_type": "stream",
     "text": [
      "100    0.11588\n",
      "200    0.17582\n",
      "300    0.23377\n",
      "400    0.30769\n",
      "500    0.36464\n",
      "600    0.44356\n",
      "700    0.48252\n",
      "800    0.50649\n",
      "900    0.58442\n",
      "1000   0.62338\n",
      "1100   0.66933\n",
      "1200   0.70629\n",
      "1300   0.74426\n",
      "1400   0.76723\n",
      "1500   0.79221\n",
      "1600   0.81818\n",
      "1700   0.84815\n",
      "1800   0.87313\n",
      "1900   0.87912\n",
      "2000   0.89510\n",
      "Name: percent_true_positive, dtype: object\n"
     ]
    }
   ],
   "source": [
    "def simulate_power(\n",
    "    p1,\n",
    "    p2,\n",
    "    num_experiments,\n",
    "    total_sample,\n",
    "    division_count,\n",
    "):\n",
    "    p_values = np.empty(division_count).reshape(1, division_count)\n",
    "    for _ in range(num_experiments):\n",
    "        control_conversions = np.empty(0)\n",
    "        exposed_conversions = np.empty(0)\n",
    "        daily_p_values = np.empty(0)\n",
    "\n",
    "        for _ in range(division_count):\n",
    "            control_daily_conversions = binom.rvs(\n",
    "                n=1, p=p1, size=total_sample // division_count\n",
    "            )\n",
    "            exposed_daily_conversions = binom.rvs(\n",
    "                n=1, p=p2, size=total_sample // division_count\n",
    "            )\n",
    "            control_conversions = np.append(\n",
    "                control_conversions, control_daily_conversions\n",
    "            )\n",
    "            exposed_conversions = np.append(\n",
    "                exposed_conversions, exposed_daily_conversions\n",
    "            )\n",
    "            control_conversion_rate = control_conversions.mean()\n",
    "            exposed_conversion_rate = exposed_conversions.mean()\n",
    "\n",
    "            z = get_z_score(\n",
    "                control_conversion_rate,\n",
    "                exposed_conversion_rate,\n",
    "                len(control_conversions),\n",
    "                len(exposed_conversions),\n",
    "            )\n",
    "\n",
    "            pv = get_p_value(z, 2)\n",
    "            daily_p_values = np.append(daily_p_values, pv)\n",
    "\n",
    "        p_values = np.vstack((p_values, daily_p_values))\n",
    "\n",
    "    p_values_frame = pd.DataFrame(p_values)\n",
    "\n",
    "    return p_values_frame\n",
    "\n",
    "\n",
    "total_sample = 2000\n",
    "division_count = 20\n",
    "conversion_rate_a = 0.45\n",
    "conversion_rate_b = 0.5\n",
    "min_detectable_effect = conversion_rate_b - conversion_rate_a\n",
    "alpha = 0.05\n",
    "test_sides = 2\n",
    "num_experiments = 1000\n",
    "\n",
    "p_values_frame = simulate_power(\n",
    "    conversion_rate_a,\n",
    "    conversion_rate_b,\n",
    "    num_experiments,\n",
    "    total_sample,\n",
    "    division_count,\n",
    ")\n",
    "\n",
    "step = total_sample // division_count\n",
    "\n",
    "significant_frame = p_values_frame.applymap(lambda x: x < alpha)\n",
    "\n",
    "daily_frame = significant_frame.copy()\n",
    "new_col_headers = np.arange(step, total_sample + step, step)\n",
    "daily_frame = daily_frame.set_axis(new_col_headers, axis=1)\n",
    "daily_frame.loc[\"percent_true_positive\"] = daily_frame.mean(axis=0)\n",
    "print(daily_frame.loc[\"percent_true_positive\"])"
   ]
  },
  {
   "attachments": {},
   "cell_type": "markdown",
   "metadata": {},
   "source": [
    "### Plot the result"
   ]
  },
  {
   "cell_type": "code",
   "execution_count": 60,
   "metadata": {},
   "outputs": [
    {
     "data": {
      "text/plain": [
       "Text(0, 0.5, 'True Positive %')"
      ]
     },
     "execution_count": 60,
     "metadata": {},
     "output_type": "execute_result"
    },
    {
     "data": {
      "image/png": "[encoded data removed]",
      "text/plain": [
       "<Figure size 640x480 with 1 Axes>"
      ]
     },
     "metadata": {},
     "output_type": "display_data"
    }
   ],
   "source": [
    "plt = sns.lineplot(data=daily_frame.loc[\"percent_true_positive\"])\n",
    "plt.set_xlabel(\"Sample Size\")\n",
    "plt.set_ylabel(\"True Positive %\")"
   ]
  },
  {
   "attachments": {},
   "cell_type": "markdown",
   "metadata": {},
   "source": [
    "### Does our simulation match what we would expect if we calculated the required sample size beforehand?"
   ]
  },
  {
   "attachments": {},
   "cell_type": "markdown",
   "metadata": {},
   "source": [
    "### Formula to determine sample size required to reach a given power level\n",
    "\n",
    "![sample size formula](img/sample-size-formula.png)"
   ]
  },
  {
   "cell_type": "code",
   "execution_count": 61,
   "metadata": {},
   "outputs": [
    {
     "name": "stdout",
     "output_type": "stream",
     "text": [
      "1565\n"
     ]
    }
   ],
   "source": [
    "# This is the function we are using in Appcues experiments to determine the necessary sample size\n",
    "def calculate_sample_size(\n",
    "    baseline, min_detectable_effect, test_sides, significance_level, power_level\n",
    "):\n",
    "    p1 = baseline\n",
    "    p2 = baseline + min_detectable_effect\n",
    "    p_bar = (p1 + p2) / 2\n",
    "    q_bar = 1 - p_bar\n",
    "    q1 = 1 - p1\n",
    "    q2 = 1 - p2\n",
    "    delta = abs(p2 - p1)\n",
    "\n",
    "    numerator_part_1 = math.sqrt(p_bar * q_bar * 2) * norm.ppf(\n",
    "        1 - significance_level / test_sides\n",
    "    )\n",
    "    numerator_part_2 = math.sqrt(p1 * q1 + p2 * q2) * norm.ppf(power_level)\n",
    "    numerator = (numerator_part_1 + numerator_part_2) ** 2\n",
    "    denominator = delta**2\n",
    "\n",
    "    return round(numerator / denominator)\n",
    "\n",
    "\n",
    "print(\n",
    "    calculate_sample_size(\n",
    "        conversion_rate_a, min_detectable_effect, test_sides, alpha, power_level=0.8\n",
    "    )\n",
    ")"
   ]
  },
  {
   "attachments": {},
   "cell_type": "markdown",
   "metadata": {},
   "source": [
    "### Formula to determine power level obtained by a give sample size and significance level\n",
    "\n",
    "![power formula](img/power-formula.png)"
   ]
  },
  {
   "cell_type": "code",
   "execution_count": 63,
   "metadata": {},
   "outputs": [
    {
     "name": "stdout",
     "output_type": "stream",
     "text": [
      "0.8000822542348274\n"
     ]
    }
   ],
   "source": [
    "def calculate_power(\n",
    "    sample_size, baseline, min_detectable_effect, test_sides, significance_level\n",
    "):\n",
    "    p1 = baseline\n",
    "    p2 = baseline + min_detectable_effect\n",
    "    p_bar = (p1 + p2) / 2\n",
    "    q_bar = 1 - p_bar\n",
    "    q1 = 1 - p1\n",
    "    q2 = 1 - p2\n",
    "    delta = abs(p2 - p1)\n",
    "    z_score_for_sig_level = norm.ppf(1 - significance_level / test_sides)\n",
    "\n",
    "    part_1 = delta / math.sqrt(p1 * q1 / sample_size + p2 * q2 / sample_size)\n",
    "    part_2a = math.sqrt(p_bar * q_bar * (2 / sample_size))\n",
    "    part_2b = math.sqrt(p1 * q1 / sample_size + p2 * q2 / sample_size)\n",
    "    part_2 = z_score_for_sig_level * part_2a / part_2b\n",
    "\n",
    "    return norm.cdf(part_1 - part_2)\n",
    "\n",
    "\n",
    "power = calculate_power(\n",
    "    1565, conversion_rate_a, min_detectable_effect, test_sides, alpha\n",
    ")\n",
    "print(power)"
   ]
  }
 ],
 "metadata": {
  "kernelspec": {
   "display_name": ".venv",
   "language": "python",
   "name": "python3"
  },
  "language_info": {
   "codemirror_mode": {
    "name": "ipython",
    "version": 3
   },
   "file_extension": ".py",
   "mimetype": "text/x-python",
   "name": "python",
   "nbconvert_exporter": "python",
   "pygments_lexer": "ipython3",
   "version": "3.11.2"
  },
  "orig_nbformat": 4
 },
 "nbformat": 4,
 "nbformat_minor": 2
}
